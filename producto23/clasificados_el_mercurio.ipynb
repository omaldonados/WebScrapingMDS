{
 "cells": [
  {
   "cell_type": "code",
   "execution_count": 1,
   "metadata": {},
   "outputs": [],
   "source": [
    "import time\n",
    "from selenium import webdriver\n",
    "from selenium.webdriver.common.by import By\n",
    "import os\n",
    "import pandas as pd\n",
    "from pandas import Series, DataFrame\n",
    "from pandas import ExcelWriter\n",
    "from pandas import ExcelFile\n",
    "from bs4 import BeautifulSoup\n",
    "from textblob import TextBlob\n",
    "import textblob"
   ]
  },
  {
   "cell_type": "code",
   "execution_count": null,
   "metadata": {},
   "outputs": [],
   "source": [
    "driver = webdriver.Chrome()\n",
    "\n",
    "link = \"https://www.clasificados.cl/Clasificados.aspx?categoria=clasificacion&clasificacion=1612\"\n",
    "\n",
    "driver.get(link)\n",
    "driver.maximize_window()\n",
    "\n",
    "for i in range(1,15):\n",
    "    driver.execute_script(\"window.scrollBy(0, 10000);\")\n",
    "    time.sleep(5)"
   ]
  },
  {
   "cell_type": "markdown",
   "metadata": {},
   "source": []
  },
  {
   "cell_type": "code",
   "execution_count": null,
   "metadata": {},
   "outputs": [],
   "source": []
  }
 ],
 "metadata": {
  "kernelspec": {
   "display_name": "Python 3.10.5 64-bit",
   "language": "python",
   "name": "python3"
  },
  "language_info": {
   "codemirror_mode": {
    "name": "ipython",
    "version": 3
   },
   "file_extension": ".py",
   "mimetype": "text/x-python",
   "name": "python",
   "nbconvert_exporter": "python",
   "pygments_lexer": "ipython3",
   "version": "3.10.5"
  },
  "orig_nbformat": 4,
  "vscode": {
   "interpreter": {
    "hash": "ca61837270b3cdc639388f52510816e6623525dc8c049be5ecec7fe7dd9b518f"
   }
  }
 },
 "nbformat": 4,
 "nbformat_minor": 2
}
